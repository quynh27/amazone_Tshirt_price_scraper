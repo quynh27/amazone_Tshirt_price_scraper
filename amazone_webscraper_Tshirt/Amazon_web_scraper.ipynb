{
 "cells": [
  {
   "cell_type": "code",
   "execution_count": null,
   "id": "63de4070",
   "metadata": {},
   "outputs": [],
   "source": [
    "from bs4 import BeautifulSoup # for webscraping\n",
    "import requests\n",
    "import smtplib #for sending email to  myself\n",
    "import time\n",
    "import datetime"
   ]
  },
  {
   "cell_type": "code",
   "execution_count": null,
   "id": "fbdc1dd4",
   "metadata": {},
   "outputs": [],
   "source": [
    "#connect to the website\n",
    "URL ='https://www.amazon.com/dp/B07BR4VSGW/ref=sspa_dk_detail_0?psc=1&pd_rd_i=B07BR4VSGW&pd_rd_w=Ou7XU&content-id=amzn1.sym.dd2c6db7-6626-466d-bf04-9570e69a7df0&pf_rd_p=dd2c6db7-6626-466d-bf04-9570e69a7df0&pf_rd_r=YS2EK4EFGX0ZPPA89S3D&pd_rd_wg=GmUOu&pd_rd_r=f1121f6b-174b-4ca3-a49c-6e358e91e4b9&s=apparel&sp_csd=d2lkZ2V0TmFtZT1zcF9kZXRhaWxfdGhlbWF0aWM&spLa=ZW5jcnlwdGVkUXVhbGlmaWVyPUEzQUVRR0VSMElVM0FYJmVuY3J5cHRlZElkPUExMDE2MjkxMU1NRTdKOVpHWUZUViZlbmNyeXB0ZWRBZElkPUEwNjk3NTc3MVhKVFI0NzRZNldIRyZ3aWRnZXROYW1lPXNwX2RldGFpbF90aGVtYXRpYyZhY3Rpb249Y2xpY2tSZWRpcmVjdCZkb05vdExvZ0NsaWNrPXRydWU='\n",
    "\n",
    "headers = { \"User-Agent\": \"Mozilla/5.0 (Windows NT 10.0; Win64; x64) AppleWebKit/537.36 (KHTML, like Gecko) Chrome/111.0.0.0 Safari/537.36\",\"Accept-Encoding\": \"gzip, deflate, br\",\"Accept\": \"text/html,application/xhtml+xml,application/xml;q=0.9,image/avif,image/webp,image/apng,*/*;q=0.8,application/signed-exchange;v=b3;q=0.7\",\"DNT\":\"1\", \"Connection\":\"close\",\"Upgrade-Insecure-Requests\":\"1\"}\n",
    "page = requests.get(URL,headers= headers)\n",
    "\n",
    "Soup1= BeautifulSoup(page.content, \"html.parser\")\n",
    "\n",
    "\n",
    "\n",
    "Soup2 = BeautifulSoup(Soup1.prettify(), \"html.parser\") #make things look better\n",
    "\n",
    "\n",
    "title = Soup2.find(id=\"productTitle\").get_text()\n",
    "print(title)\n",
    "\n",
    "price = Soup2.find('span',class_=\"a-offscreen\").get_text()\n",
    "\n",
    "print(price)\n",
    "\n",
    "\n"
   ]
  },
  {
   "cell_type": "code",
   "execution_count": null,
   "id": "2ec97af4",
   "metadata": {},
   "outputs": [],
   "source": [
    "price = price.strip()[1:]\n",
    "print(price)\n",
    "\n",
    "\n",
    "\n"
   ]
  },
  {
   "cell_type": "code",
   "execution_count": null,
   "id": "e7cfcc36",
   "metadata": {
    "scrolled": false
   },
   "outputs": [],
   "source": [
    "title = title.strip()\n",
    "print(title)\n",
    "\n",
    "import datetime\n",
    "\n",
    "today = datetime.date.today()\n",
    "print(today)"
   ]
  },
  {
   "cell_type": "code",
   "execution_count": null,
   "id": "2893c8ba",
   "metadata": {},
   "outputs": [],
   "source": [
    "#create a csv file to store information\n",
    "\n",
    "import csv\n",
    "\n",
    "header=['Title','Price','Date']\n",
    "\n",
    "data = [title,price,today]\n",
    "\n",
    "type(data)\n",
    "\n"
   ]
  },
  {
   "cell_type": "code",
   "execution_count": null,
   "id": "6862f6aa",
   "metadata": {},
   "outputs": [],
   "source": [
    "#with open('AmazonWebscraperTshirt.csv','w',newline='',encoding = 'UTF8') as file:\n",
    "    #writer = csv.writer(file)\n",
    "    #writer.writerow(header)\n",
    "    #writer.writerow(data)\n",
    "    \n",
    "    "
   ]
  },
  {
   "cell_type": "code",
   "execution_count": null,
   "id": "e9f6f54b",
   "metadata": {},
   "outputs": [],
   "source": [
    "import pandas as pd\n",
    "\n",
    "df= pd.read_csv('C:/Users\\Saturn\\Desktop\\DA_Projects\\AmazonWebscraperTshirt.csv')\n",
    "print(df)"
   ]
  },
  {
   "cell_type": "code",
   "execution_count": null,
   "id": "3a2e62ab",
   "metadata": {},
   "outputs": [],
   "source": [
    "#appending data to the csv file\n"
   ]
  },
  {
   "cell_type": "code",
   "execution_count": null,
   "id": "e28ed661",
   "metadata": {},
   "outputs": [],
   "source": [
    "with open('AmazonWebscraperTshirt.csv','a+',newline='',encoding = 'UTF8') as file:\n",
    "    writer = csv.writer(file)\n",
    "    \n",
    "    "
   ]
  },
  {
   "cell_type": "code",
   "execution_count": null,
   "id": "8618bcd0",
   "metadata": {},
   "outputs": [],
   "source": [
    "\n",
    "def check_price():\n",
    "    URL ='https://www.amazon.com/dp/B07BR4VSGW/ref=sspa_dk_detail_0?psc=1&pd_rd_i=B07BR4VSGW&pd_rd_w=Ou7XU&content-id=amzn1.sym.dd2c6db7-6626-466d-bf04-9570e69a7df0&pf_rd_p=dd2c6db7-6626-466d-bf04-9570e69a7df0&pf_rd_r=YS2EK4EFGX0ZPPA89S3D&pd_rd_wg=GmUOu&pd_rd_r=f1121f6b-174b-4ca3-a49c-6e358e91e4b9&s=apparel&sp_csd=d2lkZ2V0TmFtZT1zcF9kZXRhaWxfdGhlbWF0aWM&spLa=ZW5jcnlwdGVkUXVhbGlmaWVyPUEzQUVRR0VSMElVM0FYJmVuY3J5cHRlZElkPUExMDE2MjkxMU1NRTdKOVpHWUZUViZlbmNyeXB0ZWRBZElkPUEwNjk3NTc3MVhKVFI0NzRZNldIRyZ3aWRnZXROYW1lPXNwX2RldGFpbF90aGVtYXRpYyZhY3Rpb249Y2xpY2tSZWRpcmVjdCZkb05vdExvZ0NsaWNrPXRydWU='\n",
    "\n",
    "    headers = { \"User-Agent\": \"Mozilla/5.0 (Windows NT 10.0; Win64; x64) AppleWebKit/537.36 (KHTML, like Gecko) Chrome/111.0.0.0 Safari/537.36\",\"Accept-Encoding\": \"gzip, deflate, br\",\"Accept\": \"text/html,application/xhtml+xml,application/xml;q=0.9,image/avif,image/webp,image/apng,*/*;q=0.8,application/signed-exchange;v=b3;q=0.7\",\"DNT\":\"1\", \"Connection\":\"close\",\"Upgrade-Insecure-Requests\":\"1\"}\n",
    "    page = requests.get(URL,headers= headers)\n",
    "\n",
    "    Soup1= BeautifulSoup(page.content, \"html.parser\")\n",
    "\n",
    "\n",
    "\n",
    "    Soup2 = BeautifulSoup(Soup1.prettify(), \"html.parser\") #make things look better\n",
    "\n",
    "\n",
    "    title = Soup2.find(id=\"productTitle\").get_text()\n",
    "   \n",
    "    price = Soup2.find('span',class_=\"a-offscreen\").get_text()\n",
    "\n",
    "    title = title.strip()\n",
    "    price = price.strip()[1:]\n",
    "    import datetime\n",
    "    today = datetime.date.today()\n",
    "    \n",
    "    import csv \n",
    "    header=['Title','Price','Date']\n",
    "\n",
    "    data = [title,price,today]\n",
    "\n",
    "    with open('AmazonWebscraperTshirt.csv','a+',newline='',encoding = 'UTF8') as file:\n",
    "        writer = csv.writer(file)\n",
    "        writer.writerow(data)\n",
    "\n",
    "\n",
    "\n"
   ]
  },
  {
   "cell_type": "code",
   "execution_count": null,
   "id": "2c0fb8e9",
   "metadata": {},
   "outputs": [],
   "source": [
    "while(True):\n",
    "    check_price()\n",
    "    time.sleep(86400)"
   ]
  },
  {
   "cell_type": "code",
   "execution_count": null,
   "id": "d2e9e2e1",
   "metadata": {},
   "outputs": [],
   "source": [
    "import pandas as pd\n",
    "\n",
    "df= pd.read_csv('C:/Users\\Saturn\\Desktop\\DA_Projects\\AmazonWebscraperTshirt.csv')\n",
    "print(df)"
   ]
  },
  {
   "cell_type": "code",
   "execution_count": null,
   "id": "c96d2bfc",
   "metadata": {},
   "outputs": [],
   "source": []
  },
  {
   "cell_type": "code",
   "execution_count": null,
   "id": "afb3bd2e",
   "metadata": {},
   "outputs": [],
   "source": []
  },
  {
   "cell_type": "code",
   "execution_count": null,
   "id": "0ed787dd",
   "metadata": {},
   "outputs": [],
   "source": []
  },
  {
   "cell_type": "code",
   "execution_count": null,
   "id": "51e5f127",
   "metadata": {},
   "outputs": [],
   "source": []
  },
  {
   "cell_type": "code",
   "execution_count": null,
   "id": "afad93e3",
   "metadata": {},
   "outputs": [],
   "source": []
  },
  {
   "cell_type": "code",
   "execution_count": null,
   "id": "bfc6d1b3",
   "metadata": {},
   "outputs": [],
   "source": []
  },
  {
   "cell_type": "code",
   "execution_count": null,
   "id": "1d78456e",
   "metadata": {},
   "outputs": [],
   "source": []
  },
  {
   "cell_type": "code",
   "execution_count": null,
   "id": "08b2474e",
   "metadata": {},
   "outputs": [],
   "source": []
  }
 ],
 "metadata": {
  "kernelspec": {
   "display_name": "Python 3 (ipykernel)",
   "language": "python",
   "name": "python3"
  },
  "language_info": {
   "codemirror_mode": {
    "name": "ipython",
    "version": 3
   },
   "file_extension": ".py",
   "mimetype": "text/x-python",
   "name": "python",
   "nbconvert_exporter": "python",
   "pygments_lexer": "ipython3",
   "version": "3.9.13"
  }
 },
 "nbformat": 4,
 "nbformat_minor": 5
}
